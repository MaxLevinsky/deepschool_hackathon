{
 "cells": [
  {
   "cell_type": "code",
   "execution_count": 1,
   "metadata": {},
   "outputs": [
    {
     "name": "stderr",
     "output_type": "stream",
     "text": [
      "/home/nikitamarkov/deepschool_hackathon/src/max_work_dir/magnitude_pruner.py:66: UserWarning: A path to the dataset.yaml does not exist\n",
      "  warnings.warn('A path to the dataset.yaml does not exist')\n"
     ]
    },
    {
     "name": "stdout",
     "output_type": "stream",
     "text": [
      "Ultralytics 8.3.0 🚀 Python-3.11.8 torch-2.4.1+cu121 CUDA:0 (NVIDIA RTX A5000, 24248MiB)\n",
      "Model summary (fused): 168 layers, 11,129,454 parameters, 0 gradients, 28.5 GFLOPs\n"
     ]
    },
    {
     "name": "stderr",
     "output_type": "stream",
     "text": [
      "\u001b[34m\u001b[1mval: \u001b[0mScanning /home/nikitamarkov/deepschool/hackathon/data/test/labels.cache... 1610 images, 0 backgrounds, 0 corrupt: 100%|██████████| 1610/1610 [00:00<?, ?it/s]\n",
      "                 Class     Images  Instances      Box(P          R      mAP50  mAP50-95):   2%|▏         | 2/101 [00:15<12:25,  7.53s/it]\n"
     ]
    },
    {
     "ename": "KeyboardInterrupt",
     "evalue": "",
     "output_type": "error",
     "traceback": [
      "\u001b[0;31m---------------------------------------------------------------------------\u001b[0m",
      "\u001b[0;31mKeyboardInterrupt\u001b[0m                         Traceback (most recent call last)",
      "\u001b[1;32m/home/nikitamarkov/deepschool_hackathon/src/max_work_dir/pruner.ipynb Cell 1\u001b[0m line \u001b[0;36m9\n\u001b[1;32m      <a href='vscode-notebook-cell://ssh-remote%2Bzenno.dyndns.org/home/nikitamarkov/deepschool_hackathon/src/max_work_dir/pruner.ipynb#W0sdnNjb2RlLXJlbW90ZQ%3D%3D?line=6'>7</a>\u001b[0m \u001b[39mif\u001b[39;00m \u001b[39m__name__\u001b[39m \u001b[39m==\u001b[39m \u001b[39m'\u001b[39m\u001b[39m__main__\u001b[39m\u001b[39m'\u001b[39m:\n\u001b[1;32m      <a href='vscode-notebook-cell://ssh-remote%2Bzenno.dyndns.org/home/nikitamarkov/deepschool_hackathon/src/max_work_dir/pruner.ipynb#W0sdnNjb2RlLXJlbW90ZQ%3D%3D?line=7'>8</a>\u001b[0m     cfg \u001b[39m=\u001b[39m {\u001b[39m'\u001b[39m\u001b[39mdata\u001b[39m\u001b[39m'\u001b[39m: \u001b[39m'\u001b[39m\u001b[39m/home/nikitamarkov/deepschool/hackathon/data/dataset.yaml\u001b[39m\u001b[39m'\u001b[39m, \u001b[39m'\u001b[39m\u001b[39mcfg\u001b[39m\u001b[39m'\u001b[39m: \u001b[39m'\u001b[39m\u001b[39m/home/nikitamarkov/deepschool_hackathon/prune.yaml\u001b[39m\u001b[39m'\u001b[39m}\n\u001b[0;32m----> <a href='vscode-notebook-cell://ssh-remote%2Bzenno.dyndns.org/home/nikitamarkov/deepschool_hackathon/src/max_work_dir/pruner.ipynb#W0sdnNjb2RlLXJlbW90ZQ%3D%3D?line=8'>9</a>\u001b[0m     prune(\n\u001b[1;32m     <a href='vscode-notebook-cell://ssh-remote%2Bzenno.dyndns.org/home/nikitamarkov/deepschool_hackathon/src/max_work_dir/pruner.ipynb#W0sdnNjb2RlLXJlbW90ZQ%3D%3D?line=9'>10</a>\u001b[0m         model\u001b[39m=\u001b[39;49mYOLO(\u001b[39m'\u001b[39;49m\u001b[39m/home/nikitamarkov/deepschool/hackathon/best.pt\u001b[39;49m\u001b[39m'\u001b[39;49m),\n\u001b[1;32m     <a href='vscode-notebook-cell://ssh-remote%2Bzenno.dyndns.org/home/nikitamarkov/deepschool_hackathon/src/max_work_dir/pruner.ipynb#W0sdnNjb2RlLXJlbW90ZQ%3D%3D?line=10'>11</a>\u001b[0m         \u001b[39m# dataset_dir='/home/nikitamarkov/deepschool/hackathon/data',\u001b[39;49;00m\n\u001b[1;32m     <a href='vscode-notebook-cell://ssh-remote%2Bzenno.dyndns.org/home/nikitamarkov/deepschool_hackathon/src/max_work_dir/pruner.ipynb#W0sdnNjb2RlLXJlbW90ZQ%3D%3D?line=11'>12</a>\u001b[0m         output_dir\u001b[39m=\u001b[39;49m\u001b[39m'\u001b[39;49m\u001b[39m/home/nikitamarkov/deepschool_hackathon/src/max_work_dir/models\u001b[39;49m\u001b[39m'\u001b[39;49m,\n\u001b[1;32m     <a href='vscode-notebook-cell://ssh-remote%2Bzenno.dyndns.org/home/nikitamarkov/deepschool_hackathon/src/max_work_dir/pruner.ipynb#W0sdnNjb2RlLXJlbW90ZQ%3D%3D?line=12'>13</a>\u001b[0m         input_example \u001b[39m=\u001b[39;49m torch\u001b[39m.\u001b[39;49mrand(\u001b[39m1\u001b[39;49m,\u001b[39m3\u001b[39;49m,\u001b[39m640\u001b[39;49m,\u001b[39m640\u001b[39;49m),\n\u001b[1;32m     <a href='vscode-notebook-cell://ssh-remote%2Bzenno.dyndns.org/home/nikitamarkov/deepschool_hackathon/src/max_work_dir/pruner.ipynb#W0sdnNjb2RlLXJlbW90ZQ%3D%3D?line=13'>14</a>\u001b[0m         test_dataset\u001b[39m=\u001b[39;49m\u001b[39m'\u001b[39;49m\u001b[39mtest\u001b[39;49m\u001b[39m'\u001b[39;49m,\n\u001b[1;32m     <a href='vscode-notebook-cell://ssh-remote%2Bzenno.dyndns.org/home/nikitamarkov/deepschool_hackathon/src/max_work_dir/pruner.ipynb#W0sdnNjb2RlLXJlbW90ZQ%3D%3D?line=14'>15</a>\u001b[0m         pruning_ratio\u001b[39m=\u001b[39;49m\u001b[39m0.4\u001b[39;49m,\n\u001b[1;32m     <a href='vscode-notebook-cell://ssh-remote%2Bzenno.dyndns.org/home/nikitamarkov/deepschool_hackathon/src/max_work_dir/pruner.ipynb#W0sdnNjb2RlLXJlbW90ZQ%3D%3D?line=15'>16</a>\u001b[0m         device\u001b[39m=\u001b[39;49m\u001b[39m'\u001b[39;49m\u001b[39mcuda\u001b[39;49m\u001b[39m'\u001b[39;49m,\n\u001b[1;32m     <a href='vscode-notebook-cell://ssh-remote%2Bzenno.dyndns.org/home/nikitamarkov/deepschool_hackathon/src/max_work_dir/pruner.ipynb#W0sdnNjb2RlLXJlbW90ZQ%3D%3D?line=16'>17</a>\u001b[0m         save_onnx\u001b[39m=\u001b[39;49m\u001b[39mTrue\u001b[39;49;00m,\n\u001b[1;32m     <a href='vscode-notebook-cell://ssh-remote%2Bzenno.dyndns.org/home/nikitamarkov/deepschool_hackathon/src/max_work_dir/pruner.ipynb#W0sdnNjb2RlLXJlbW90ZQ%3D%3D?line=17'>18</a>\u001b[0m         \u001b[39m*\u001b[39;49m\u001b[39m*\u001b[39;49mcfg\n\u001b[1;32m     <a href='vscode-notebook-cell://ssh-remote%2Bzenno.dyndns.org/home/nikitamarkov/deepschool_hackathon/src/max_work_dir/pruner.ipynb#W0sdnNjb2RlLXJlbW90ZQ%3D%3D?line=18'>19</a>\u001b[0m     )\n",
      "File \u001b[0;32m~/deepschool_hackathon/src/max_work_dir/magnitude_pruner.py:77\u001b[0m, in \u001b[0;36mprune\u001b[0;34m(model, input_example, output_dir, device, task, test_dataset, pruning_ratio, global_pruning, save_onnx, **yolo_cgf)\u001b[0m\n\u001b[1;32m     75\u001b[0m \u001b[39m# Evaluate the pruned model\u001b[39;00m\n\u001b[1;32m     76\u001b[0m eval_model \u001b[39m=\u001b[39m deepcopy(model)\n\u001b[0;32m---> 77\u001b[0m baseline_test_metric \u001b[39m=\u001b[39m eval_model\u001b[39m.\u001b[39;49mval(split\u001b[39m=\u001b[39;49m\u001b[39m'\u001b[39;49m\u001b[39mtest\u001b[39;49m\u001b[39m'\u001b[39;49m) \u001b[39mif\u001b[39;00m test_dataset \u001b[39m==\u001b[39m \u001b[39m'\u001b[39m\u001b[39mtest\u001b[39m\u001b[39m'\u001b[39m \u001b[39melse\u001b[39;00m eval_model\u001b[39m.\u001b[39mval()\n\u001b[1;32m     78\u001b[0m baseline_metric \u001b[39m=\u001b[39m get_test_performane_metric(baseline_test_metric, task)\n\u001b[1;32m     80\u001b[0m baseline_macs, baseline_nparams \u001b[39m=\u001b[39m tp\u001b[39m.\u001b[39mutils\u001b[39m.\u001b[39mcount_ops_and_params(model\u001b[39m.\u001b[39mmodel, input_example)\n",
      "File \u001b[0;32m~/deepschool_hackathon/venv/lib/python3.11/site-packages/ultralytics/engine/model.py:636\u001b[0m, in \u001b[0;36mModel.val\u001b[0;34m(self, validator, **kwargs)\u001b[0m\n\u001b[1;32m    633\u001b[0m args \u001b[39m=\u001b[39m {\u001b[39m*\u001b[39m\u001b[39m*\u001b[39m\u001b[39mself\u001b[39m\u001b[39m.\u001b[39moverrides, \u001b[39m*\u001b[39m\u001b[39m*\u001b[39mcustom, \u001b[39m*\u001b[39m\u001b[39m*\u001b[39mkwargs, \u001b[39m\"\u001b[39m\u001b[39mmode\u001b[39m\u001b[39m\"\u001b[39m: \u001b[39m\"\u001b[39m\u001b[39mval\u001b[39m\u001b[39m\"\u001b[39m}  \u001b[39m# highest priority args on the right\u001b[39;00m\n\u001b[1;32m    635\u001b[0m validator \u001b[39m=\u001b[39m (validator \u001b[39mor\u001b[39;00m \u001b[39mself\u001b[39m\u001b[39m.\u001b[39m_smart_load(\u001b[39m\"\u001b[39m\u001b[39mvalidator\u001b[39m\u001b[39m\"\u001b[39m))(args\u001b[39m=\u001b[39margs, _callbacks\u001b[39m=\u001b[39m\u001b[39mself\u001b[39m\u001b[39m.\u001b[39mcallbacks)\n\u001b[0;32m--> 636\u001b[0m validator(model\u001b[39m=\u001b[39;49m\u001b[39mself\u001b[39;49m\u001b[39m.\u001b[39;49mmodel)\n\u001b[1;32m    637\u001b[0m \u001b[39mself\u001b[39m\u001b[39m.\u001b[39mmetrics \u001b[39m=\u001b[39m validator\u001b[39m.\u001b[39mmetrics\n\u001b[1;32m    638\u001b[0m \u001b[39mreturn\u001b[39;00m validator\u001b[39m.\u001b[39mmetrics\n",
      "File \u001b[0;32m~/deepschool_hackathon/venv/lib/python3.11/site-packages/torch/utils/_contextlib.py:116\u001b[0m, in \u001b[0;36mcontext_decorator.<locals>.decorate_context\u001b[0;34m(*args, **kwargs)\u001b[0m\n\u001b[1;32m    113\u001b[0m \u001b[39m@functools\u001b[39m\u001b[39m.\u001b[39mwraps(func)\n\u001b[1;32m    114\u001b[0m \u001b[39mdef\u001b[39;00m \u001b[39mdecorate_context\u001b[39m(\u001b[39m*\u001b[39margs, \u001b[39m*\u001b[39m\u001b[39m*\u001b[39mkwargs):\n\u001b[1;32m    115\u001b[0m     \u001b[39mwith\u001b[39;00m ctx_factory():\n\u001b[0;32m--> 116\u001b[0m         \u001b[39mreturn\u001b[39;00m func(\u001b[39m*\u001b[39;49margs, \u001b[39m*\u001b[39;49m\u001b[39m*\u001b[39;49mkwargs)\n",
      "File \u001b[0;32m~/deepschool_hackathon/venv/lib/python3.11/site-packages/ultralytics/engine/validator.py:186\u001b[0m, in \u001b[0;36mBaseValidator.__call__\u001b[0;34m(self, trainer, model)\u001b[0m\n\u001b[1;32m    184\u001b[0m \u001b[39m# Postprocess\u001b[39;00m\n\u001b[1;32m    185\u001b[0m \u001b[39mwith\u001b[39;00m dt[\u001b[39m3\u001b[39m]:\n\u001b[0;32m--> 186\u001b[0m     preds \u001b[39m=\u001b[39m \u001b[39mself\u001b[39;49m\u001b[39m.\u001b[39;49mpostprocess(preds)\n\u001b[1;32m    188\u001b[0m \u001b[39mself\u001b[39m\u001b[39m.\u001b[39mupdate_metrics(preds, batch)\n\u001b[1;32m    189\u001b[0m \u001b[39mif\u001b[39;00m \u001b[39mself\u001b[39m\u001b[39m.\u001b[39margs\u001b[39m.\u001b[39mplots \u001b[39mand\u001b[39;00m batch_i \u001b[39m<\u001b[39m \u001b[39m3\u001b[39m:\n",
      "File \u001b[0;32m~/deepschool_hackathon/venv/lib/python3.11/site-packages/ultralytics/models/yolo/detect/val.py:94\u001b[0m, in \u001b[0;36mDetectionValidator.postprocess\u001b[0;34m(self, preds)\u001b[0m\n\u001b[1;32m     92\u001b[0m \u001b[39mdef\u001b[39;00m \u001b[39mpostprocess\u001b[39m(\u001b[39mself\u001b[39m, preds):\n\u001b[1;32m     93\u001b[0m \u001b[39m    \u001b[39m\u001b[39m\"\"\"Apply Non-maximum suppression to prediction outputs.\"\"\"\u001b[39;00m\n\u001b[0;32m---> 94\u001b[0m     \u001b[39mreturn\u001b[39;00m ops\u001b[39m.\u001b[39;49mnon_max_suppression(\n\u001b[1;32m     95\u001b[0m         preds,\n\u001b[1;32m     96\u001b[0m         \u001b[39mself\u001b[39;49m\u001b[39m.\u001b[39;49margs\u001b[39m.\u001b[39;49mconf,\n\u001b[1;32m     97\u001b[0m         \u001b[39mself\u001b[39;49m\u001b[39m.\u001b[39;49margs\u001b[39m.\u001b[39;49miou,\n\u001b[1;32m     98\u001b[0m         labels\u001b[39m=\u001b[39;49m\u001b[39mself\u001b[39;49m\u001b[39m.\u001b[39;49mlb,\n\u001b[1;32m     99\u001b[0m         multi_label\u001b[39m=\u001b[39;49m\u001b[39mTrue\u001b[39;49;00m,\n\u001b[1;32m    100\u001b[0m         agnostic\u001b[39m=\u001b[39;49m\u001b[39mself\u001b[39;49m\u001b[39m.\u001b[39;49margs\u001b[39m.\u001b[39;49msingle_cls \u001b[39mor\u001b[39;49;00m \u001b[39mself\u001b[39;49m\u001b[39m.\u001b[39;49margs\u001b[39m.\u001b[39;49magnostic_nms,\n\u001b[1;32m    101\u001b[0m         max_det\u001b[39m=\u001b[39;49m\u001b[39mself\u001b[39;49m\u001b[39m.\u001b[39;49margs\u001b[39m.\u001b[39;49mmax_det,\n\u001b[1;32m    102\u001b[0m     )\n",
      "File \u001b[0;32m~/deepschool_hackathon/venv/lib/python3.11/site-packages/ultralytics/utils/ops.py:267\u001b[0m, in \u001b[0;36mnon_max_suppression\u001b[0;34m(prediction, conf_thres, iou_thres, classes, agnostic, multi_label, labels, max_det, nc, max_time_img, max_nms, max_wh, in_place, rotated)\u001b[0m\n\u001b[1;32m    264\u001b[0m box, \u001b[39mcls\u001b[39m, mask \u001b[39m=\u001b[39m x\u001b[39m.\u001b[39msplit((\u001b[39m4\u001b[39m, nc, nm), \u001b[39m1\u001b[39m)\n\u001b[1;32m    266\u001b[0m \u001b[39mif\u001b[39;00m multi_label:\n\u001b[0;32m--> 267\u001b[0m     i, j \u001b[39m=\u001b[39m torch\u001b[39m.\u001b[39;49mwhere(\u001b[39mcls\u001b[39;49m \u001b[39m>\u001b[39;49m conf_thres)\n\u001b[1;32m    268\u001b[0m     x \u001b[39m=\u001b[39m torch\u001b[39m.\u001b[39mcat((box[i], x[i, \u001b[39m4\u001b[39m \u001b[39m+\u001b[39m j, \u001b[39mNone\u001b[39;00m], j[:, \u001b[39mNone\u001b[39;00m]\u001b[39m.\u001b[39mfloat(), mask[i]), \u001b[39m1\u001b[39m)\n\u001b[1;32m    269\u001b[0m \u001b[39melse\u001b[39;00m:  \u001b[39m# best class only\u001b[39;00m\n",
      "\u001b[0;31mKeyboardInterrupt\u001b[0m: "
     ]
    }
   ],
   "source": [
    "from magnitude_pruner import prune\n",
    "from ultralytics import YOLO\n",
    "import torch\n",
    "\n",
    "# 'data': '/home/nikitamarkov/.clearml/cache/storage_manager/datasets/ds_6edb59cbb61b41c696b2666c03389c2c/data.yaml'\n",
    "\n",
    "if __name__ == '__main__':\n",
    "    cfg = {'data': '/home/nikitamarkov/deepschool/hackathon/data/dataset.yaml', 'cfg': '/home/nikitamarkov/deepschool_hackathon/prune.yaml'}\n",
    "    prune(\n",
    "        model=YOLO('/home/nikitamarkov/deepschool/hackathon/best.pt'),\n",
    "        # dataset_dir='/home/nikitamarkov/deepschool/hackathon/data',\n",
    "        output_dir='/home/nikitamarkov/deepschool_hackathon/src/max_work_dir/models',\n",
    "        input_example = torch.rand(1,3,640,640),\n",
    "        test_dataset='test',\n",
    "        pruning_ratio=0.4,\n",
    "        device='cuda',\n",
    "        save_onnx=True,\n",
    "        **cfg\n",
    "    )"
   ]
  },
  {
   "cell_type": "code",
   "execution_count": null,
   "metadata": {},
   "outputs": [],
   "source": []
  },
  {
   "cell_type": "code",
   "execution_count": null,
   "metadata": {},
   "outputs": [],
   "source": [
    "python3 tools/measure.py --model-onnx /home/nikitamarkov/captcha_engine/runs/detect/visdrone_yolo8s_640_pruned6/weights/best.onnx --host 212.20.47.88 --port 31566"
   ]
  }
 ],
 "metadata": {
  "kernelspec": {
   "display_name": "venv",
   "language": "python",
   "name": "python3"
  },
  "language_info": {
   "codemirror_mode": {
    "name": "ipython",
    "version": 3
   },
   "file_extension": ".py",
   "mimetype": "text/x-python",
   "name": "python",
   "nbconvert_exporter": "python",
   "pygments_lexer": "ipython3",
   "version": "3.11.8"
  }
 },
 "nbformat": 4,
 "nbformat_minor": 2
}
